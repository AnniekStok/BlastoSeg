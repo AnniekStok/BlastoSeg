{
 "cells": [
  {
   "cell_type": "code",
   "execution_count": 2,
   "metadata": {},
   "outputs": [],
   "source": [
    "import os\n",
    "from skimage.io import imread\n",
    "import numpy as np"
   ]
  },
  {
   "cell_type": "code",
   "execution_count": 4,
   "metadata": {},
   "outputs": [],
   "source": [
    "\n",
    "raw_img_dir = '/group/dl4miacourse/projects/BlastoSeg/training/raw'\n",
    "\n",
    "files = [f for f in os.listdir(raw_img_dir) if '.tif' in f]\n",
    "\n",
    "stack = []\n",
    "for f in files:\n",
    "    img = imread(os.path.join(raw_img_dir, f))\n",
    "    stack.append(img)\n",
    "\n",
    "\n",
    " \n"
   ]
  },
  {
   "cell_type": "code",
   "execution_count": 8,
   "metadata": {},
   "outputs": [
    {
     "name": "stdout",
     "output_type": "stream",
     "text": [
      "8\n",
      "(8, 118, 256, 256)\n",
      "mean: 117.6194177886187 std: 48.85771465056213\n"
     ]
    }
   ],
   "source": [
    "print(len(stack))\n",
    "stack = np.asarray(stack)\n",
    "print(stack.shape)\n",
    "mean = np.mean(stack)\n",
    "std = np.std(stack)\n",
    "\n",
    "print('mean:', mean, 'std:', std)"
   ]
  }
 ],
 "metadata": {
  "kernelspec": {
   "display_name": "Python 3",
   "language": "python",
   "name": "python3"
  },
  "language_info": {
   "codemirror_mode": {
    "name": "ipython",
    "version": 3
   },
   "file_extension": ".py",
   "mimetype": "text/x-python",
   "name": "python",
   "nbconvert_exporter": "python",
   "pygments_lexer": "ipython3",
   "version": "3.10.14"
  },
  "orig_nbformat": 4
 },
 "nbformat": 4,
 "nbformat_minor": 2
}
